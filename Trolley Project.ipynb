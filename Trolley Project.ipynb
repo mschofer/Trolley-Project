{
 "cells": [
  {
   "cell_type": "code",
   "execution_count": 1,
   "id": "b78afb8b",
   "metadata": {},
   "outputs": [],
   "source": [
    "def calculateScore(location, isPregnant, height, age, isLawful):\n",
    "# begin describing and associating variables with weighted values\n",
    "    # location options: \"car\" or \"crosswalk\" \n",
    "    # isPregnant options: True or False\n",
    "    # height options: float in inches\n",
    "    # age options: integer\n",
    "    # isLawful options: True or False (however, jaywalking, bank robbers, and murders are all False)\n",
    "    # Total score is variable name \"life_score\"\n",
    "    # define new variables\n",
    "    location_multiplier = 0\n",
    "    law_multiplier = 0\n",
    "    age_score = 0\n",
    "    height_score = 0\n",
    "    life_score = 0\n",
    "    \n",
    "    if(isPregnant):\n",
    "        p_score = 98\n",
    "        # if the person is pregnant, they will be given a large p_score.\n",
    "    else:\n",
    "        p_score = 0\n",
    "        # if the person isn't preganant, they will reviece no p_score.\n",
    "    if(age >= 72):\n",
    "        age_score = 0\n",
    "        # if you're older than 72, you have a score of 0.\n",
    "    elif(60 <= age < 72):\n",
    "        age_score = 15\n",
    "        # low priority age group, low score of 15 if you're age 60 to 71.\n",
    "    elif(36 <= age < 60):\n",
    "        age_score = 45\n",
    "        # 36 to 60 have a reasonable score of 45.\n",
    "    elif(10 < age <= 15):\n",
    "        age_score = 75\n",
    "        # younger people have a higher score of 75.\n",
    "    elif(age <= 10):\n",
    "        age_score = 100\n",
    "    else:\n",
    "        age_score = 25\n",
    "        # anyone who doesn't fall into those low or high age priority just has a score of 25 in age.\n",
    "        # Roughly the age group of 16 to 35.\n",
    "    if(isLawful == False):\n",
    "        # breaking the law will make your life_score significantly lower \n",
    "        law_multiplier = .2\n",
    "    else:\n",
    "        law_multiplier = 1\n",
    "    if(location == \"crosswalk\"):\n",
    "        # more in likely to die in colision if you're in the crosswalk\n",
    "        location_multiplier = 1.3\n",
    "    else:\n",
    "        # if in a car, it doesn't affect your score\n",
    "        location_multiplier = 1\n",
    "        \n",
    "    # add total life_score using the two multipliers and the three scores\n",
    "    # multipliers of law and location will have grave impacts on your score\n",
    "    life_score = location_multiplier * law_multiplier * (age_score + p_score + height_score)\n",
    "    \n",
    "    return(life_score)"
   ]
  },
  {
   "cell_type": "code",
   "execution_count": 4,
   "id": "1aa5515a",
   "metadata": {},
   "outputs": [
    {
     "data": {
      "text/plain": [
       "31.98"
      ]
     },
     "execution_count": 4,
     "metadata": {},
     "output_type": "execute_result"
    }
   ],
   "source": [
    "calculateScore(\"crosswalk\", True, 68, 26, False)"
   ]
  },
  {
   "cell_type": "code",
   "execution_count": 5,
   "id": "a8b7e31d",
   "metadata": {},
   "outputs": [
    {
     "data": {
      "text/plain": [
       "24.6"
      ]
     },
     "execution_count": 5,
     "metadata": {},
     "output_type": "execute_result"
    }
   ],
   "source": [
    "calculateScore(\"car\", True, 74, 31, False)"
   ]
  },
  {
   "cell_type": "code",
   "execution_count": 6,
   "id": "76759430",
   "metadata": {},
   "outputs": [],
   "source": [
    "def printPersonDetails(isPregnant, height, age, isLawful, personLocation):\n",
    "    # define new variables for the numeral part that can be used as strings in personal details\n",
    "    h_det = str(height)\n",
    "    a_det = str(age)\n",
    "    # define the verbal strings\n",
    "    if(isLawful == True):\n",
    "        law_det = \"behaving lawfully\"\n",
    "    else:\n",
    "        law_det = \"behaving unlawfully\"\n",
    "    if(isPregnant == True):\n",
    "        p_det = \" pregnant \"\n",
    "    else:\n",
    "        p_det = \" \"\n",
    "        # leave p_det a space in order for it to still fit in final sentence\n",
    "    # personLocation is already a string\n",
    "    # splitting phrase into two parts for coding simplicity\n",
    "    a_phrase = \"A\" + p_det + \"person, \" + h_det + \" inches tall, \" + a_det + \" years old, \" + law_det + \", \"\n",
    "    b_phrase = \"in a \" + personLocation\n",
    "    # define the final_phrase\n",
    "    final_phrase = a_phrase + b_phrase\n",
    "    return(final_phrase)"
   ]
  },
  {
   "cell_type": "code",
   "execution_count": 9,
   "id": "91de6791",
   "metadata": {},
   "outputs": [
    {
     "data": {
      "text/plain": [
       "'A pregnant person, 72 inches tall, 18 years old, behaving lawfully, in a crosswalk'"
      ]
     },
     "execution_count": 9,
     "metadata": {},
     "output_type": "execute_result"
    }
   ],
   "source": [
    "printPersonDetails(True, 72, 18, True, \"crosswalk\")"
   ]
  },
  {
   "cell_type": "code",
   "execution_count": 10,
   "id": "10c73903",
   "metadata": {},
   "outputs": [
    {
     "data": {
      "text/plain": [
       "'A pregnant person, 72 inches tall, 28 years old, behaving lawfully, in a car'"
      ]
     },
     "execution_count": 10,
     "metadata": {},
     "output_type": "execute_result"
    }
   ],
   "source": [
    "printPersonDetails(True, 72, 28, True, \"car\")"
   ]
  },
  {
   "cell_type": "code",
   "execution_count": null,
   "id": "827bc636",
   "metadata": {},
   "outputs": [],
   "source": []
  }
 ],
 "metadata": {
  "kernelspec": {
   "display_name": "Python 3 (ipykernel)",
   "language": "python",
   "name": "python3"
  },
  "language_info": {
   "codemirror_mode": {
    "name": "ipython",
    "version": 3
   },
   "file_extension": ".py",
   "mimetype": "text/x-python",
   "name": "python",
   "nbconvert_exporter": "python",
   "pygments_lexer": "ipython3",
   "version": "3.9.12"
  }
 },
 "nbformat": 4,
 "nbformat_minor": 5
}
